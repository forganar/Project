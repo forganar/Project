{
  "nbformat": 4,
  "nbformat_minor": 0,
  "metadata": {
    "colab": {
      "name": "Untitled6.ipynb",
      "provenance": []
    },
    "kernelspec": {
      "name": "python3",
      "display_name": "Python 3"
    },
    "language_info": {
      "name": "python"
    }
  },
  "cells": [
    {
      "cell_type": "code",
      "metadata": {
        "id": "t660aZ7GikgD"
      },
      "source": [
        "# 2021년 4월 1일 아파트 가격\n",
        "# 가격 단위 (만원)\n",
        "\n"
      ],
      "execution_count": 4,
      "outputs": []
    },
    {
      "cell_type": "code",
      "metadata": {
        "colab": {
          "base_uri": "https://localhost:8080/",
          "height": 422
        },
        "id": "Q6sIyHXpizMt",
        "outputId": "f3706014-b1a6-4e7c-ea6e-6026ed610140"
      },
      "source": [
        "import pandas as pd\n",
        "url = 'https://docs.google.com/uc?export=download&id=1_o90HNWC1c1dda_5gyklweFpElrLrQ1w'\n",
        "df= pd.read_csv(url)\n",
        "df"
      ],
      "execution_count": 3,
      "outputs": [
        {
          "output_type": "execute_result",
          "data": {
            "text/html": [
              "<div>\n",
              "<style scoped>\n",
              "    .dataframe tbody tr th:only-of-type {\n",
              "        vertical-align: middle;\n",
              "    }\n",
              "\n",
              "    .dataframe tbody tr th {\n",
              "        vertical-align: top;\n",
              "    }\n",
              "\n",
              "    .dataframe thead th {\n",
              "        text-align: right;\n",
              "    }\n",
              "</style>\n",
              "<table border=\"1\" class=\"dataframe\">\n",
              "  <thead>\n",
              "    <tr style=\"text-align: right;\">\n",
              "      <th></th>\n",
              "      <th>index</th>\n",
              "      <th>name</th>\n",
              "      <th>gugun</th>\n",
              "      <th>dong</th>\n",
              "      <th>buildDate</th>\n",
              "      <th>min_sales</th>\n",
              "      <th>max_sales</th>\n",
              "      <th>avg_sales</th>\n",
              "      <th>area</th>\n",
              "      <th>floor</th>\n",
              "      <th>pricePerArea</th>\n",
              "    </tr>\n",
              "  </thead>\n",
              "  <tbody>\n",
              "    <tr>\n",
              "      <th>0</th>\n",
              "      <td>0</td>\n",
              "      <td>수락산벨리체</td>\n",
              "      <td>노원구</td>\n",
              "      <td>상계동</td>\n",
              "      <td>200006.0</td>\n",
              "      <td>97000.0</td>\n",
              "      <td>107000.0</td>\n",
              "      <td>101000.0</td>\n",
              "      <td>139</td>\n",
              "      <td>42</td>\n",
              "      <td>697.841727</td>\n",
              "    </tr>\n",
              "    <tr>\n",
              "      <th>1</th>\n",
              "      <td>1</td>\n",
              "      <td>수락파크빌</td>\n",
              "      <td>노원구</td>\n",
              "      <td>상계동</td>\n",
              "      <td>200105.0</td>\n",
              "      <td>83000.0</td>\n",
              "      <td>92000.0</td>\n",
              "      <td>89000.0</td>\n",
              "      <td>105</td>\n",
              "      <td>32</td>\n",
              "      <td>790.476191</td>\n",
              "    </tr>\n",
              "    <tr>\n",
              "      <th>2</th>\n",
              "      <td>2</td>\n",
              "      <td>비콘드림힐2차</td>\n",
              "      <td>노원구</td>\n",
              "      <td>상계동</td>\n",
              "      <td>200502.0</td>\n",
              "      <td>62000.0</td>\n",
              "      <td>74000.0</td>\n",
              "      <td>71500.0</td>\n",
              "      <td>86</td>\n",
              "      <td>26</td>\n",
              "      <td>720.930233</td>\n",
              "    </tr>\n",
              "    <tr>\n",
              "      <th>3</th>\n",
              "      <td>3</td>\n",
              "      <td>수락현대</td>\n",
              "      <td>노원구</td>\n",
              "      <td>상계동</td>\n",
              "      <td>199509.0</td>\n",
              "      <td>65000.0</td>\n",
              "      <td>66000.0</td>\n",
              "      <td>65500.0</td>\n",
              "      <td>102</td>\n",
              "      <td>31</td>\n",
              "      <td>637.254902</td>\n",
              "    </tr>\n",
              "    <tr>\n",
              "      <th>4</th>\n",
              "      <td>4</td>\n",
              "      <td>대망드림힐</td>\n",
              "      <td>노원구</td>\n",
              "      <td>상계동</td>\n",
              "      <td>200306.0</td>\n",
              "      <td>63000.0</td>\n",
              "      <td>78000.0</td>\n",
              "      <td>70000.0</td>\n",
              "      <td>91</td>\n",
              "      <td>28</td>\n",
              "      <td>692.307692</td>\n",
              "    </tr>\n",
              "    <tr>\n",
              "      <th>...</th>\n",
              "      <td>...</td>\n",
              "      <td>...</td>\n",
              "      <td>...</td>\n",
              "      <td>...</td>\n",
              "      <td>...</td>\n",
              "      <td>...</td>\n",
              "      <td>...</td>\n",
              "      <td>...</td>\n",
              "      <td>...</td>\n",
              "      <td>...</td>\n",
              "      <td>...</td>\n",
              "    </tr>\n",
              "    <tr>\n",
              "      <th>4539</th>\n",
              "      <td>46</td>\n",
              "      <td>한국프라우드</td>\n",
              "      <td>마포구</td>\n",
              "      <td>합정동</td>\n",
              "      <td>200505.0</td>\n",
              "      <td>99000.0</td>\n",
              "      <td>99000.0</td>\n",
              "      <td>99000.0</td>\n",
              "      <td>113</td>\n",
              "      <td>34</td>\n",
              "      <td>876.106195</td>\n",
              "    </tr>\n",
              "    <tr>\n",
              "      <th>4540</th>\n",
              "      <td>47</td>\n",
              "      <td>동보</td>\n",
              "      <td>영등포구</td>\n",
              "      <td>양평동5가</td>\n",
              "      <td>199810.0</td>\n",
              "      <td>80000.0</td>\n",
              "      <td>105000.0</td>\n",
              "      <td>89500.0</td>\n",
              "      <td>80</td>\n",
              "      <td>24</td>\n",
              "      <td>1000.000000</td>\n",
              "    </tr>\n",
              "    <tr>\n",
              "      <th>4541</th>\n",
              "      <td>48</td>\n",
              "      <td>대림</td>\n",
              "      <td>강서구</td>\n",
              "      <td>염창동</td>\n",
              "      <td>199910.0</td>\n",
              "      <td>74000.0</td>\n",
              "      <td>94000.0</td>\n",
              "      <td>84500.0</td>\n",
              "      <td>83</td>\n",
              "      <td>25</td>\n",
              "      <td>891.566265</td>\n",
              "    </tr>\n",
              "    <tr>\n",
              "      <th>4542</th>\n",
              "      <td>49</td>\n",
              "      <td>염창현대아이파크</td>\n",
              "      <td>강서구</td>\n",
              "      <td>염창동</td>\n",
              "      <td>200507.0</td>\n",
              "      <td>97000.0</td>\n",
              "      <td>114000.0</td>\n",
              "      <td>109000.0</td>\n",
              "      <td>93</td>\n",
              "      <td>28</td>\n",
              "      <td>1043.010753</td>\n",
              "    </tr>\n",
              "    <tr>\n",
              "      <th>4543</th>\n",
              "      <td>50</td>\n",
              "      <td>마포영화블렌하임</td>\n",
              "      <td>마포구</td>\n",
              "      <td>망원동</td>\n",
              "      <td>200909.0</td>\n",
              "      <td>84000.0</td>\n",
              "      <td>107000.0</td>\n",
              "      <td>98500.0</td>\n",
              "      <td>117</td>\n",
              "      <td>35</td>\n",
              "      <td>717.948718</td>\n",
              "    </tr>\n",
              "  </tbody>\n",
              "</table>\n",
              "<p>4544 rows × 11 columns</p>\n",
              "</div>"
            ],
            "text/plain": [
              "      index      name gugun   dong  ...  avg_sales  area  floor  pricePerArea\n",
              "0         0    수락산벨리체   노원구    상계동  ...   101000.0   139     42    697.841727\n",
              "1         1     수락파크빌   노원구    상계동  ...    89000.0   105     32    790.476191\n",
              "2         2   비콘드림힐2차   노원구    상계동  ...    71500.0    86     26    720.930233\n",
              "3         3      수락현대   노원구    상계동  ...    65500.0   102     31    637.254902\n",
              "4         4     대망드림힐   노원구    상계동  ...    70000.0    91     28    692.307692\n",
              "...     ...       ...   ...    ...  ...        ...   ...    ...           ...\n",
              "4539     46    한국프라우드   마포구    합정동  ...    99000.0   113     34    876.106195\n",
              "4540     47        동보  영등포구  양평동5가  ...    89500.0    80     24   1000.000000\n",
              "4541     48        대림   강서구    염창동  ...    84500.0    83     25    891.566265\n",
              "4542     49  염창현대아이파크   강서구    염창동  ...   109000.0    93     28   1043.010753\n",
              "4543     50  마포영화블렌하임   마포구    망원동  ...    98500.0   117     35    717.948718\n",
              "\n",
              "[4544 rows x 11 columns]"
            ]
          },
          "metadata": {
            "tags": []
          },
          "execution_count": 3
        }
      ]
    },
    {
      "cell_type": "code",
      "metadata": {
        "colab": {
          "base_uri": "https://localhost:8080/"
        },
        "id": "1Flal4AOi0BV",
        "outputId": "bfe5bc38-aecd-4021-d2fb-7a8fba702ce0"
      },
      "source": [
        "df['floor'].unique()"
      ],
      "execution_count": 8,
      "outputs": [
        {
          "output_type": "execute_result",
          "data": {
            "text/plain": [
              "array([42, 32, 26, 31, 28, 25, 38, 16, 24, 27, 33, 18, 23, 15, 29, 22, 30,\n",
              "       34, 19, 17, 14, 20,  0, 21, 37,  7, 11, 35, 40, 13, 41,  5, 39, 43,\n",
              "       46, 44, 10, 61, 78,  8, 12,  6, 55, 48,  9, 45, 53, 50, 56, 73, 54,\n",
              "       52, 47, 36, 51, 65, 62, 49, 63, 79, 58, 59, 85, 84, 71, 60, 77, 57,\n",
              "       67, 64, 70, 80,  4, 81])"
            ]
          },
          "metadata": {
            "tags": []
          },
          "execution_count": 8
        }
      ]
    },
    {
      "cell_type": "code",
      "metadata": {
        "id": "lBSuX0yDizRf"
      },
      "source": [
        ""
      ],
      "execution_count": null,
      "outputs": []
    },
    {
      "cell_type": "code",
      "metadata": {
        "id": "7USD1Yqeiup1"
      },
      "source": [
        ""
      ],
      "execution_count": null,
      "outputs": []
    }
  ]
}